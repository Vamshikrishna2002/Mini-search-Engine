{
 "cells": [
  {
   "cell_type": "code",
   "execution_count": 1,
   "id": "07625a9c",
   "metadata": {},
   "outputs": [],
   "source": [
    "import numpy as np\n",
    "import pandas as pd\n",
    "import json"
   ]
  },
  {
   "cell_type": "code",
   "execution_count": 2,
   "id": "93be2eb4",
   "metadata": {},
   "outputs": [],
   "source": [
    "with open(\"cranfield/cran_docs.json\",'r') as f:\n",
    "    docs = json.load(f)\n",
    "docs_df = pd.DataFrame(docs)\n",
    "\n",
    "with open(\"cranfield/cran_qrels.json\",'r') as f:\n",
    "    rels = json.load(f)\n",
    "rels_df = pd.DataFrame(rels)\n",
    "\n",
    "with open(\"cranfield/cran_queries.json\",'r') as f:\n",
    "    queries = json.load(f)\n",
    "queries_df = pd.DataFrame(queries)"
   ]
  },
  {
   "cell_type": "code",
   "execution_count": 6,
   "id": "b60ae13f",
   "metadata": {},
   "outputs": [
    {
     "data": {
      "text/html": [
       "<div>\n",
       "<style scoped>\n",
       "    .dataframe tbody tr th:only-of-type {\n",
       "        vertical-align: middle;\n",
       "    }\n",
       "\n",
       "    .dataframe tbody tr th {\n",
       "        vertical-align: top;\n",
       "    }\n",
       "\n",
       "    .dataframe thead th {\n",
       "        text-align: right;\n",
       "    }\n",
       "</style>\n",
       "<table border=\"1\" class=\"dataframe\">\n",
       "  <thead>\n",
       "    <tr style=\"text-align: right;\">\n",
       "      <th></th>\n",
       "      <th>id</th>\n",
       "      <th>author</th>\n",
       "      <th>bibliography</th>\n",
       "      <th>body</th>\n",
       "      <th>title</th>\n",
       "    </tr>\n",
       "  </thead>\n",
       "  <tbody>\n",
       "    <tr>\n",
       "      <th>0</th>\n",
       "      <td>1</td>\n",
       "      <td>brenckman,m.</td>\n",
       "      <td>j. ae. scs. 25, 1958, 324.</td>\n",
       "      <td>experimental investigation of the aerodynamics...</td>\n",
       "      <td>experimental investigation of the aerodynamics...</td>\n",
       "    </tr>\n",
       "    <tr>\n",
       "      <th>1</th>\n",
       "      <td>2</td>\n",
       "      <td>ting-yili</td>\n",
       "      <td>department of aeronautical engineering, rensse...</td>\n",
       "      <td>simple shear flow past a flat plate in an inco...</td>\n",
       "      <td>simple shear flow past a flat plate in an inco...</td>\n",
       "    </tr>\n",
       "    <tr>\n",
       "      <th>2</th>\n",
       "      <td>3</td>\n",
       "      <td>m. b. glauert</td>\n",
       "      <td>department of mathematics, university of manch...</td>\n",
       "      <td>the boundary layer in simple shear flow past a...</td>\n",
       "      <td>the boundary layer in simple shear flow past a...</td>\n",
       "    </tr>\n",
       "    <tr>\n",
       "      <th>3</th>\n",
       "      <td>4</td>\n",
       "      <td>yen,k.t.</td>\n",
       "      <td>j. ae. scs. 22, 1955, 728.</td>\n",
       "      <td>approximate solutions of the incompressible la...</td>\n",
       "      <td>approximate solutions of the incompressible la...</td>\n",
       "    </tr>\n",
       "    <tr>\n",
       "      <th>4</th>\n",
       "      <td>5</td>\n",
       "      <td>wasserman,b.</td>\n",
       "      <td>j. ae. scs. 24, 1957, 924.</td>\n",
       "      <td>one-dimensional transient heat conduction into...</td>\n",
       "      <td>one-dimensional transient heat conduction into...</td>\n",
       "    </tr>\n",
       "  </tbody>\n",
       "</table>\n",
       "</div>"
      ],
      "text/plain": [
       "   id         author                                       bibliography  \\\n",
       "0   1   brenckman,m.                         j. ae. scs. 25, 1958, 324.   \n",
       "1   2      ting-yili  department of aeronautical engineering, rensse...   \n",
       "2   3  m. b. glauert  department of mathematics, university of manch...   \n",
       "3   4       yen,k.t.                         j. ae. scs. 22, 1955, 728.   \n",
       "4   5   wasserman,b.                         j. ae. scs. 24, 1957, 924.   \n",
       "\n",
       "                                                body  \\\n",
       "0  experimental investigation of the aerodynamics...   \n",
       "1  simple shear flow past a flat plate in an inco...   \n",
       "2  the boundary layer in simple shear flow past a...   \n",
       "3  approximate solutions of the incompressible la...   \n",
       "4  one-dimensional transient heat conduction into...   \n",
       "\n",
       "                                               title  \n",
       "0  experimental investigation of the aerodynamics...  \n",
       "1  simple shear flow past a flat plate in an inco...  \n",
       "2  the boundary layer in simple shear flow past a...  \n",
       "3  approximate solutions of the incompressible la...  \n",
       "4  one-dimensional transient heat conduction into...  "
      ]
     },
     "execution_count": 6,
     "metadata": {},
     "output_type": "execute_result"
    }
   ],
   "source": [
    "docs_df.head()"
   ]
  },
  {
   "cell_type": "code",
   "execution_count": 10,
   "id": "f72edb86",
   "metadata": {},
   "outputs": [],
   "source": [
    "# preprocess corpus\n",
    "from nltk.tokenize import sent_tokenize, TreebankWordTokenizer\n",
    "from nltk.stem import PorterStemmer\n",
    "from nltk.corpus import stopwords"
   ]
  },
  {
   "cell_type": "code",
   "execution_count": 34,
   "id": "d2ccc483",
   "metadata": {},
   "outputs": [],
   "source": [
    "def sent_tokenizer(doc_body):\n",
    "    '''\n",
    "    doc_body: a string\n",
    "    -------\n",
    "    return: a list of sentences\n",
    "    '''\n",
    "    return sent_tokenize(doc_body)\n",
    "\n",
    "def word_tokenizer(sent_list):\n",
    "    '''\n",
    "    sent_list: list of sentences\n",
    "    -------\n",
    "    return: a list of list of tokens\n",
    "    '''\n",
    "    tokenizer = TreebankWordTokenizer()\n",
    "    res = []\n",
    "    for sent in sent_list:\n",
    "        tokenized_list = tokenizer.tokenize(sent)\n",
    "        res.append(tokenized_list)\n",
    "    return res\n",
    "\n",
    "\n",
    "def stopword_removal(token_list):\n",
    "    '''\n",
    "    token_list: list of list of tokens\n",
    "    -------\n",
    "    return: list of list of tokens without stopwords \n",
    "    '''\n",
    "    stopwords_set = set(stopwords.words(\"english\"))\n",
    "    res = []\n",
    "    for sent in token_list:\n",
    "        removed_list = [token for token in sent if token.lower() not in stopwords_set]\n",
    "        res.append(removed_list)\n",
    "    \n",
    "    return res\n",
    "\n",
    "def inflection_reduction(token_list):\n",
    "    '''\n",
    "    token_list: list of list of tokens\n",
    "    -------\n",
    "    return: list of list of tokens without stopwords \n",
    "    '''\n",
    "    stemmer = PorterStemmer()\n",
    "    res = []\n",
    "    for sent in token_list:\n",
    "        stemmed_list = [stemmer.stem(token) for token in sent]\n",
    "        res.append(stemmed_list)\n",
    "    \n",
    "    return res\n",
    "\n",
    "def rejoin(sent_list):\n",
    "    '''\n",
    "    token_list: list of list of tokens\n",
    "    -------\n",
    "    return: a str \n",
    "    '''\n",
    "    res = \"\"\n",
    "    for sent in sent_list:\n",
    "        res += \" \".join(sent)\n",
    "    return res"
   ]
  },
  {
   "cell_type": "code",
   "execution_count": 36,
   "id": "bdd9c608",
   "metadata": {},
   "outputs": [],
   "source": [
    "# doc = docs_df['body'][0]\n",
    "# sent = sent_tokenizer(doc)\n",
    "# tokenized = word_tokenizer(sent)\n",
    "# stemmed = inflection_reduction(tokenized)\n",
    "# stopword_removed = stopword_removal(stemmed)\n",
    "# preprocessed_doc = rejoin(stopword_removed)\n"
   ]
  },
  {
   "cell_type": "code",
   "execution_count": 37,
   "id": "ec99346d",
   "metadata": {},
   "outputs": [],
   "source": [
    "corpus = []\n",
    "for doc in docs_df['body']:\n",
    "    sent = sent_tokenizer(doc)\n",
    "    tokenized = word_tokenizer(sent)\n",
    "    stemmed = inflection_reduction(tokenized)\n",
    "    stopword_removed = stopword_removal(stemmed)\n",
    "    preprocessed_doc = rejoin(stopword_removed)\n",
    "    corpus.append(preprocessed_doc)"
   ]
  },
  {
   "cell_type": "code",
   "execution_count": 38,
   "id": "7376e37f",
   "metadata": {},
   "outputs": [
    {
     "ename": "ModuleNotFoundError",
     "evalue": "No module named 'sentence_transformer'",
     "output_type": "error",
     "traceback": [
      "\u001b[1;31m---------------------------------------------------------------------------\u001b[0m",
      "\u001b[1;31mModuleNotFoundError\u001b[0m                       Traceback (most recent call last)",
      "\u001b[1;32m~\\AppData\\Local\\Temp\\ipykernel_14816\\1976509614.py\u001b[0m in \u001b[0;36m<module>\u001b[1;34m\u001b[0m\n\u001b[1;32m----> 1\u001b[1;33m \u001b[1;32mfrom\u001b[0m \u001b[0msentence_transformer\u001b[0m \u001b[1;32mimport\u001b[0m \u001b[0msentence_encoder\u001b[0m\u001b[1;33m\u001b[0m\u001b[1;33m\u001b[0m\u001b[0m\n\u001b[0m",
      "\u001b[1;31mModuleNotFoundError\u001b[0m: No module named 'sentence_transformer'"
     ]
    }
   ],
   "source": [
    "from sentence_transformer import sentence_encoder"
   ]
  }
 ],
 "metadata": {
  "kernelspec": {
   "display_name": "Python 3 (ipykernel)",
   "language": "python",
   "name": "python3"
  },
  "language_info": {
   "codemirror_mode": {
    "name": "ipython",
    "version": 3
   },
   "file_extension": ".py",
   "mimetype": "text/x-python",
   "name": "python",
   "nbconvert_exporter": "python",
   "pygments_lexer": "ipython3",
   "version": "3.9.13"
  }
 },
 "nbformat": 4,
 "nbformat_minor": 5
}
